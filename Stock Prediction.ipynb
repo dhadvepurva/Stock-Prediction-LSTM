{
 "cells": [
  {
   "cell_type": "markdown",
   "id": "a8474bf9",
   "metadata": {},
   "source": [
    "Project : Stock Prediction using RNN and LSTM\n",
    "\n",
    "Name : Purva Rajan Dhadve\n",
    "\n",
    "Email id : purvadhadve2002@gmail.com\n",
    "\n",
    "Linkedin id : https://www.linkedin.com/in/purva-dhadve-620086246/"
   ]
  },
  {
   "cell_type": "code",
   "execution_count": 1,
   "id": "16c8c534",
   "metadata": {},
   "outputs": [],
   "source": [
    "import pandas as pd\n",
    "import matplotlib.pyplot as plt\n",
    "import seaborn as sns\n",
    "import numpy as np\n",
    "from tensorflow.keras.layers import Dense, SimpleRNN,LSTM\n",
    "from tensorflow.keras.callbacks import EarlyStopping\n",
    "from tensorflow.keras.models import Sequential"
   ]
  },
  {
   "cell_type": "code",
   "execution_count": 2,
   "id": "a7f7819c",
   "metadata": {},
   "outputs": [],
   "source": [
    "df = pd.read_csv(\"Google_Stock_Price.csv\")"
   ]
  },
  {
   "cell_type": "code",
   "execution_count": 3,
   "id": "e1f69138",
   "metadata": {},
   "outputs": [
    {
     "data": {
      "text/html": [
       "<div>\n",
       "<style scoped>\n",
       "    .dataframe tbody tr th:only-of-type {\n",
       "        vertical-align: middle;\n",
       "    }\n",
       "\n",
       "    .dataframe tbody tr th {\n",
       "        vertical-align: top;\n",
       "    }\n",
       "\n",
       "    .dataframe thead th {\n",
       "        text-align: right;\n",
       "    }\n",
       "</style>\n",
       "<table border=\"1\" class=\"dataframe\">\n",
       "  <thead>\n",
       "    <tr style=\"text-align: right;\">\n",
       "      <th></th>\n",
       "      <th>Date</th>\n",
       "      <th>Open</th>\n",
       "      <th>High</th>\n",
       "      <th>Low</th>\n",
       "      <th>Close</th>\n",
       "      <th>Volume</th>\n",
       "    </tr>\n",
       "  </thead>\n",
       "  <tbody>\n",
       "    <tr>\n",
       "      <th>0</th>\n",
       "      <td>1/3/2012</td>\n",
       "      <td>325.25</td>\n",
       "      <td>332.83</td>\n",
       "      <td>324.97</td>\n",
       "      <td>663.59</td>\n",
       "      <td>7,380,500</td>\n",
       "    </tr>\n",
       "    <tr>\n",
       "      <th>1</th>\n",
       "      <td>1/4/2012</td>\n",
       "      <td>331.27</td>\n",
       "      <td>333.87</td>\n",
       "      <td>329.08</td>\n",
       "      <td>666.45</td>\n",
       "      <td>5,749,400</td>\n",
       "    </tr>\n",
       "    <tr>\n",
       "      <th>2</th>\n",
       "      <td>1/5/2012</td>\n",
       "      <td>329.83</td>\n",
       "      <td>330.75</td>\n",
       "      <td>326.89</td>\n",
       "      <td>657.21</td>\n",
       "      <td>6,590,300</td>\n",
       "    </tr>\n",
       "    <tr>\n",
       "      <th>3</th>\n",
       "      <td>1/6/2012</td>\n",
       "      <td>328.34</td>\n",
       "      <td>328.77</td>\n",
       "      <td>323.68</td>\n",
       "      <td>648.24</td>\n",
       "      <td>5,405,900</td>\n",
       "    </tr>\n",
       "    <tr>\n",
       "      <th>4</th>\n",
       "      <td>1/9/2012</td>\n",
       "      <td>322.04</td>\n",
       "      <td>322.29</td>\n",
       "      <td>309.46</td>\n",
       "      <td>620.76</td>\n",
       "      <td>11,688,800</td>\n",
       "    </tr>\n",
       "  </tbody>\n",
       "</table>\n",
       "</div>"
      ],
      "text/plain": [
       "       Date    Open    High     Low   Close      Volume\n",
       "0  1/3/2012  325.25  332.83  324.97  663.59   7,380,500\n",
       "1  1/4/2012  331.27  333.87  329.08  666.45   5,749,400\n",
       "2  1/5/2012  329.83  330.75  326.89  657.21   6,590,300\n",
       "3  1/6/2012  328.34  328.77  323.68  648.24   5,405,900\n",
       "4  1/9/2012  322.04  322.29  309.46  620.76  11,688,800"
      ]
     },
     "execution_count": 3,
     "metadata": {},
     "output_type": "execute_result"
    }
   ],
   "source": [
    "df.head()"
   ]
  },
  {
   "cell_type": "code",
   "execution_count": 4,
   "id": "5f13d083",
   "metadata": {},
   "outputs": [
    {
     "data": {
      "text/plain": [
       "(1258, 6)"
      ]
     },
     "execution_count": 4,
     "metadata": {},
     "output_type": "execute_result"
    }
   ],
   "source": [
    "df.shape"
   ]
  },
  {
   "cell_type": "code",
   "execution_count": 5,
   "id": "895d8d40",
   "metadata": {},
   "outputs": [
    {
     "data": {
      "text/html": [
       "<div>\n",
       "<style scoped>\n",
       "    .dataframe tbody tr th:only-of-type {\n",
       "        vertical-align: middle;\n",
       "    }\n",
       "\n",
       "    .dataframe tbody tr th {\n",
       "        vertical-align: top;\n",
       "    }\n",
       "\n",
       "    .dataframe thead th {\n",
       "        text-align: right;\n",
       "    }\n",
       "</style>\n",
       "<table border=\"1\" class=\"dataframe\">\n",
       "  <thead>\n",
       "    <tr style=\"text-align: right;\">\n",
       "      <th></th>\n",
       "      <th>Open</th>\n",
       "      <th>High</th>\n",
       "      <th>Low</th>\n",
       "    </tr>\n",
       "  </thead>\n",
       "  <tbody>\n",
       "    <tr>\n",
       "      <th>count</th>\n",
       "      <td>1258.000000</td>\n",
       "      <td>1258.000000</td>\n",
       "      <td>1258.000000</td>\n",
       "    </tr>\n",
       "    <tr>\n",
       "      <th>mean</th>\n",
       "      <td>533.709833</td>\n",
       "      <td>537.880223</td>\n",
       "      <td>529.007409</td>\n",
       "    </tr>\n",
       "    <tr>\n",
       "      <th>std</th>\n",
       "      <td>151.904442</td>\n",
       "      <td>153.008811</td>\n",
       "      <td>150.552807</td>\n",
       "    </tr>\n",
       "    <tr>\n",
       "      <th>min</th>\n",
       "      <td>279.120000</td>\n",
       "      <td>281.210000</td>\n",
       "      <td>277.220000</td>\n",
       "    </tr>\n",
       "    <tr>\n",
       "      <th>25%</th>\n",
       "      <td>404.115000</td>\n",
       "      <td>406.765000</td>\n",
       "      <td>401.765000</td>\n",
       "    </tr>\n",
       "    <tr>\n",
       "      <th>50%</th>\n",
       "      <td>537.470000</td>\n",
       "      <td>540.750000</td>\n",
       "      <td>532.990000</td>\n",
       "    </tr>\n",
       "    <tr>\n",
       "      <th>75%</th>\n",
       "      <td>654.922500</td>\n",
       "      <td>662.587500</td>\n",
       "      <td>644.800000</td>\n",
       "    </tr>\n",
       "    <tr>\n",
       "      <th>max</th>\n",
       "      <td>816.680000</td>\n",
       "      <td>816.680000</td>\n",
       "      <td>805.140000</td>\n",
       "    </tr>\n",
       "  </tbody>\n",
       "</table>\n",
       "</div>"
      ],
      "text/plain": [
       "              Open         High          Low\n",
       "count  1258.000000  1258.000000  1258.000000\n",
       "mean    533.709833   537.880223   529.007409\n",
       "std     151.904442   153.008811   150.552807\n",
       "min     279.120000   281.210000   277.220000\n",
       "25%     404.115000   406.765000   401.765000\n",
       "50%     537.470000   540.750000   532.990000\n",
       "75%     654.922500   662.587500   644.800000\n",
       "max     816.680000   816.680000   805.140000"
      ]
     },
     "execution_count": 5,
     "metadata": {},
     "output_type": "execute_result"
    }
   ],
   "source": [
    "# description of the data (max, min, std)\n",
    "df.describe()"
   ]
  },
  {
   "cell_type": "code",
   "execution_count": 6,
   "id": "d6384ec0",
   "metadata": {},
   "outputs": [
    {
     "data": {
      "text/html": [
       "<div>\n",
       "<style scoped>\n",
       "    .dataframe tbody tr th:only-of-type {\n",
       "        vertical-align: middle;\n",
       "    }\n",
       "\n",
       "    .dataframe tbody tr th {\n",
       "        vertical-align: top;\n",
       "    }\n",
       "\n",
       "    .dataframe thead th {\n",
       "        text-align: right;\n",
       "    }\n",
       "</style>\n",
       "<table border=\"1\" class=\"dataframe\">\n",
       "  <thead>\n",
       "    <tr style=\"text-align: right;\">\n",
       "      <th></th>\n",
       "      <th>Open</th>\n",
       "      <th>High</th>\n",
       "      <th>Low</th>\n",
       "    </tr>\n",
       "  </thead>\n",
       "  <tbody>\n",
       "    <tr>\n",
       "      <th>Open</th>\n",
       "      <td>1.000000</td>\n",
       "      <td>0.999692</td>\n",
       "      <td>0.999498</td>\n",
       "    </tr>\n",
       "    <tr>\n",
       "      <th>High</th>\n",
       "      <td>0.999692</td>\n",
       "      <td>1.000000</td>\n",
       "      <td>0.999480</td>\n",
       "    </tr>\n",
       "    <tr>\n",
       "      <th>Low</th>\n",
       "      <td>0.999498</td>\n",
       "      <td>0.999480</td>\n",
       "      <td>1.000000</td>\n",
       "    </tr>\n",
       "  </tbody>\n",
       "</table>\n",
       "</div>"
      ],
      "text/plain": [
       "          Open      High       Low\n",
       "Open  1.000000  0.999692  0.999498\n",
       "High  0.999692  1.000000  0.999480\n",
       "Low   0.999498  0.999480  1.000000"
      ]
     },
     "execution_count": 6,
     "metadata": {},
     "output_type": "execute_result"
    }
   ],
   "source": [
    "# Data Correlation : Relationship between columns\n",
    "df.corr()"
   ]
  },
  {
   "cell_type": "code",
   "execution_count": 7,
   "id": "b29868b0",
   "metadata": {},
   "outputs": [
    {
     "data": {
      "image/png": "[encoded data removed]",
      "text/plain": [
       "<Figure size 500x500 with 2 Axes>"
      ]
     },
     "metadata": {},
     "output_type": "display_data"
    }
   ],
   "source": [
    "# Visualization of correlation result with seaborn library\n",
    "f, ax = plt.subplots(figsize = (5,5))\n",
    "sns.heatmap(df.corr(),annot=True, linecolor='black', fmt=\"0.4f\", ax=ax)\n",
    "plt.show()"
   ]
  },
  {
   "cell_type": "code",
   "execution_count": 8,
   "id": "4e3f67ec",
   "metadata": {},
   "outputs": [
    {
     "name": "stdout",
     "output_type": "stream",
     "text": [
      "[[325.25]\n",
      " [331.27]\n",
      " [329.83]\n",
      " ...\n",
      " [793.7 ]\n",
      " [783.33]\n",
      " [782.75]]\n"
     ]
    }
   ],
   "source": [
    "# seprate the open price data from the data frame df\n",
    "# and then we will apply RNN model on it\n",
    "data_set = df.loc[:,[\"Open\"]].values\n",
    "print(data_set)"
   ]
  },
  {
   "cell_type": "code",
   "execution_count": 9,
   "id": "9c1a93c2",
   "metadata": {},
   "outputs": [],
   "source": [
    "train = data_set[:len(data_set)-250]\n",
    "test = data_set[len(train):]"
   ]
  },
  {
   "cell_type": "code",
   "execution_count": 10,
   "id": "cee626d7",
   "metadata": {},
   "outputs": [
    {
     "data": {
      "text/plain": [
       "array([[325.25],\n",
       "       [331.27],\n",
       "       [329.83],\n",
       "       [328.34],\n",
       "       [322.04],\n",
       "       [313.7 ],\n",
       "       [310.59],\n",
       "       [314.43],\n",
       "       [311.96],\n",
       "       [314.81]])"
      ]
     },
     "execution_count": 10,
     "metadata": {},
     "output_type": "execute_result"
    }
   ],
   "source": [
    "train[0:10]"
   ]
  },
  {
   "cell_type": "code",
   "execution_count": 11,
   "id": "1ee9fc9a",
   "metadata": {},
   "outputs": [
    {
     "data": {
      "text/plain": [
       "array([[325.25],\n",
       "       [331.27],\n",
       "       [329.83],\n",
       "       ...,\n",
       "       [769.5 ],\n",
       "       [743.  ],\n",
       "       [746.45]])"
      ]
     },
     "execution_count": 11,
     "metadata": {},
     "output_type": "execute_result"
    }
   ],
   "source": [
    "train.reshape(train.shape[0],1)"
   ]
  },
  {
   "cell_type": "code",
   "execution_count": 12,
   "id": "55ff4d6f",
   "metadata": {},
   "outputs": [],
   "source": [
    "# we have to normalize the train data set values between zero and one\n",
    "# we use min max scaler\n",
    "from sklearn.preprocessing import MinMaxScaler\n",
    "scaler = MinMaxScaler(feature_range=(0,1))\n",
    "train_scaler = scaler.fit_transform(train)"
   ]
  },
  {
   "cell_type": "code",
   "execution_count": 13,
   "id": "ab33eb78",
   "metadata": {},
   "outputs": [
    {
     "data": {
      "image/png": "[encoded data removed]",
      "text/plain": [
       "<Figure size 640x480 with 1 Axes>"
      ]
     },
     "metadata": {},
     "output_type": "display_data"
    }
   ],
   "source": [
    "# we would now visualize the train_scaler\n",
    "plt.plot(train_scaler)\n",
    "plt.show()"
   ]
  },
  {
   "cell_type": "code",
   "execution_count": 14,
   "id": "10949076",
   "metadata": {},
   "outputs": [],
   "source": [
    "# let us create the data\n",
    "x_train = []\n",
    "y_train = []\n",
    "time_steps = 50\n",
    "for i in range(time_steps,len(train_scaler)):\n",
    "    x_train.append(train_scaler[i-time_steps:i,0])\n",
    "    y_train.append(train_scaler[i,0])\n",
    "x_train, y_train = np.array(x_train), np.array(y_train)"
   ]
  },
  {
   "cell_type": "code",
   "execution_count": 15,
   "id": "c56a66b1",
   "metadata": {},
   "outputs": [
    {
     "data": {
      "text/plain": [
       "array([[0.09272735, 0.10482833, 0.10193375, ..., 0.03972019, 0.04848436,\n",
       "        0.05473587],\n",
       "       [0.10482833, 0.10193375, 0.09893865, ..., 0.04848436, 0.05473587,\n",
       "        0.05634397],\n",
       "       [0.10193375, 0.09893865, 0.08627483, ..., 0.05473587, 0.05634397,\n",
       "        0.06064565],\n",
       "       ...,\n",
       "       [0.77373965, 0.75385945, 0.73888398, ..., 0.9524001 , 0.9800796 ,\n",
       "        1.        ],\n",
       "       [0.75385945, 0.73888398, 0.90130256, ..., 0.9800796 , 1.        ,\n",
       "        0.98572807],\n",
       "       [0.73888398, 0.90130256, 0.84913966, ..., 1.        , 0.98572807,\n",
       "        0.9324596 ]])"
      ]
     },
     "execution_count": 15,
     "metadata": {},
     "output_type": "execute_result"
    }
   ],
   "source": [
    "x_train"
   ]
  },
  {
   "cell_type": "code",
   "execution_count": 16,
   "id": "93105df7",
   "metadata": {},
   "outputs": [
    {
     "data": {
      "text/plain": [
       "array([5.63439736e-02, 6.06456541e-02, 6.28768996e-02, 7.06762081e-02,\n",
       "       7.43748492e-02, 7.82745035e-02, 8.63753317e-02, 8.47873281e-02,\n",
       "       8.68175605e-02, 9.18227868e-02, 9.32298786e-02, 9.15413685e-02,\n",
       "       8.05459516e-02, 8.51893543e-02, 7.82141996e-02, 7.20028946e-02,\n",
       "       6.82439495e-02, 7.32893785e-02, 7.37316073e-02, 8.21339551e-02,\n",
       "       8.73401946e-02, 6.27562917e-02, 4.82833481e-02, 4.77808153e-02,\n",
       "       4.54088607e-02, 4.39816676e-02, 3.26043258e-02, 3.79512744e-02,\n",
       "       4.37203506e-02, 5.06352014e-02, 5.47559701e-02, 5.27257377e-02,\n",
       "       4.35193375e-02, 4.09262684e-02, 4.93487175e-02, 4.56500764e-02,\n",
       "       3.47149634e-02, 4.52480502e-02, 4.65546354e-02, 5.27056364e-02,\n",
       "       5.00924660e-02, 4.05041409e-02, 4.50671384e-02, 5.77108627e-02,\n",
       "       7.35908981e-02, 6.48468280e-02, 4.02227225e-02, 5.31679666e-02,\n",
       "       4.13684972e-02, 4.88863874e-02, 4.07252553e-02, 3.55190158e-02,\n",
       "       2.78604165e-02, 2.84232532e-02, 1.14778484e-02, 9.90994613e-03,\n",
       "       1.51362869e-02, 1.61614537e-02, 2.72975798e-02, 1.55383131e-02,\n",
       "       2.39004583e-02, 9.44761598e-03, 1.38699043e-03, 9.64862909e-04,\n",
       "       0.00000000e+00, 2.29154941e-03, 1.32668650e-02, 1.94982713e-02,\n",
       "       1.95384739e-02, 7.67870065e-03, 7.01535740e-03, 2.43225858e-03,\n",
       "       7.37718099e-03, 5.56806304e-03, 1.46538554e-02, 2.15084023e-02,\n",
       "       1.96992844e-02, 2.84634558e-02, 3.21620970e-02, 2.46442068e-02,\n",
       "       2.98906489e-02, 1.59805419e-02, 6.79424298e-03, 1.18396719e-02,\n",
       "       1.60609472e-02, 1.81313822e-02, 1.66639865e-02, 2.58502854e-02,\n",
       "       4.84843612e-02, 4.02026212e-02, 5.47358688e-02, 4.80421323e-02,\n",
       "       5.47358688e-02, 5.86355230e-02, 7.58221436e-02, 6.80228351e-02,\n",
       "       7.70684249e-02, 6.52689555e-02, 7.97821018e-02, 7.93800756e-02,\n",
       "       8.15711184e-02, 7.88172389e-02, 8.42847954e-02, 7.83549087e-02,\n",
       "       8.71994854e-02, 9.90391574e-02, 1.10094878e-01, 1.07320897e-01,\n",
       "       1.13934229e-01, 1.15321219e-01, 1.12929163e-01, 1.07180188e-01,\n",
       "       1.14095039e-01, 1.15421725e-01, 1.02798102e-01, 1.04808233e-01,\n",
       "       1.17190641e-01, 1.24065289e-01, 1.23824073e-01, 1.24386910e-01,\n",
       "       1.19823913e-01, 1.25794002e-01, 1.39844818e-01, 1.49614055e-01,\n",
       "       1.37814586e-01, 1.29251427e-01, 1.32929967e-01, 1.49473346e-01,\n",
       "       1.47965747e-01, 1.47644126e-01, 1.57373161e-01, 1.64348316e-01,\n",
       "       1.72107421e-01, 1.70901343e-01, 1.92972582e-01, 1.89756372e-01,\n",
       "       1.99887433e-01, 1.94078154e-01, 1.98982874e-01, 2.05133875e-01,\n",
       "       1.95646056e-01, 2.02681515e-01, 2.10661735e-01, 2.00932701e-01,\n",
       "       1.99606014e-01, 1.81756050e-01, 1.92811771e-01, 1.91766503e-01,\n",
       "       1.81836456e-01, 1.80027338e-01, 1.83866688e-01, 1.95465144e-01,\n",
       "       1.45432982e-01, 1.20828978e-01, 1.11823591e-01, 1.26638257e-01,\n",
       "       1.19823913e-01, 1.16326284e-01, 1.19683203e-01, 1.19321380e-01,\n",
       "       1.34638578e-01, 1.24326606e-01, 1.25311570e-01, 1.14818686e-01,\n",
       "       1.10014473e-01, 9.44359572e-02, 1.03561952e-01, 1.02798102e-01,\n",
       "       1.00466350e-01, 8.97925545e-02, 8.57722924e-02, 9.55013267e-02,\n",
       "       1.09310927e-01, 1.08808394e-01, 1.09773257e-01, 1.06255528e-01,\n",
       "       9.99638176e-02, 1.07823430e-01, 1.27623221e-01, 1.31140950e-01,\n",
       "       1.42096165e-01, 1.34839592e-01, 1.31985205e-01, 1.27422208e-01,\n",
       "       1.34839592e-01, 1.25231165e-01, 1.29834365e-01, 1.39080968e-01,\n",
       "       1.55785157e-01, 1.39020664e-01, 1.45352577e-01, 1.56468602e-01,\n",
       "       1.60589370e-01, 1.63142237e-01, 1.53835330e-01, 1.54378065e-01,\n",
       "       1.47925545e-01, 1.47000884e-01, 1.41533328e-01, 1.39844818e-01,\n",
       "       1.59302887e-01, 1.64810646e-01, 1.69232934e-01, 1.75343732e-01,\n",
       "       1.75444239e-01, 1.72167725e-01, 1.82741015e-01, 1.81896760e-01,\n",
       "       1.76891533e-01, 1.59202380e-01, 1.62277881e-01, 1.57574174e-01,\n",
       "       1.50217094e-01, 1.44508322e-01, 1.75886468e-01, 1.81153011e-01,\n",
       "       1.90681032e-01, 1.91686098e-01, 1.86660770e-01, 1.93656026e-01,\n",
       "       1.90419715e-01, 1.98118517e-01, 2.07626437e-01, 2.01053309e-01,\n",
       "       1.99002975e-01, 2.09636568e-01, 2.20089250e-01, 2.18360537e-01,\n",
       "       2.21717456e-01, 2.20089250e-01, 2.19687224e-01, 2.27365924e-01,\n",
       "       2.35969285e-01, 2.45296293e-01, 2.37979416e-01, 2.39245799e-01,\n",
       "       2.42281097e-01, 2.34984321e-01, 2.34783308e-01, 2.41075018e-01,\n",
       "       2.37778403e-01, 2.45296293e-01, 2.68955536e-01, 2.81056525e-01,\n",
       "       2.74081370e-01, 2.74523599e-01, 2.71709415e-01, 2.70724451e-01,\n",
       "       2.67910268e-01, 2.67005709e-01, 2.58502854e-01, 2.44994774e-01,\n",
       "       2.51246281e-01, 2.56834446e-01, 2.51286484e-01, 2.54743909e-01,\n",
       "       2.52412157e-01, 2.53497628e-01, 2.46663182e-01, 2.43969607e-01,\n",
       "       2.34984321e-01, 2.44532444e-01, 2.53457425e-01, 2.44230924e-01,\n",
       "       2.26019136e-01, 2.18702259e-01, 2.15445847e-01, 2.22883332e-01,\n",
       "       2.32853582e-01, 2.31969124e-01, 2.25918630e-01, 2.26561872e-01,\n",
       "       2.26722682e-01, 2.25315591e-01, 2.09093833e-01, 2.40592587e-01,\n",
       "       2.40974512e-01, 2.48110477e-01, 2.56251508e-01, 2.47587843e-01,\n",
       "       2.43245960e-01, 2.59005387e-01, 2.63266865e-01, 2.60110959e-01,\n",
       "       2.76996060e-01, 2.88313098e-01, 3.03067460e-01, 2.97057168e-01,\n",
       "       3.10906971e-01, 3.15389563e-01, 3.18967597e-01, 3.17580606e-01,\n",
       "       3.35611482e-01, 3.59130015e-01, 3.50144729e-01, 3.45119402e-01,\n",
       "       3.48134598e-01, 3.42667042e-01, 3.17078073e-01, 3.15349361e-01,\n",
       "       3.23590898e-01, 3.15791590e-01, 3.10002412e-01, 3.08193294e-01,\n",
       "       3.13077913e-01, 3.07911876e-01, 3.02564927e-01, 3.04374045e-01,\n",
       "       3.10484844e-01, 3.22183806e-01, 3.24053228e-01, 3.25560827e-01,\n",
       "       3.09057651e-01, 3.20193777e-01, 3.19309319e-01, 3.28756935e-01,\n",
       "       3.41481065e-01, 3.34103884e-01, 3.28435314e-01, 3.11952239e-01,\n",
       "       3.17339391e-01, 3.13821661e-01, 3.18887191e-01, 3.14987537e-01,\n",
       "       3.26545791e-01, 3.30304736e-01, 3.19992764e-01, 3.30103723e-01,\n",
       "       3.39330224e-01, 3.51129694e-01, 3.43571601e-01, 3.53139825e-01,\n",
       "       3.60135081e-01, 3.64436761e-01, 3.67271046e-01, 3.61140146e-01,\n",
       "       3.59130015e-01, 3.26706601e-01, 3.42124307e-01, 3.50828174e-01,\n",
       "       3.47390850e-01, 3.33983276e-01, 3.27088526e-01, 3.24997990e-01,\n",
       "       3.25560827e-01, 3.33098818e-01, 3.35108949e-01, 3.43551500e-01,\n",
       "       3.45501327e-01, 3.44817882e-01, 3.35149152e-01, 3.35591381e-01,\n",
       "       3.30666559e-01, 3.26988020e-01, 3.26927716e-01, 3.18444963e-01,\n",
       "       3.04514754e-01, 3.01338747e-01, 2.97760714e-01, 3.08414409e-01,\n",
       "       3.10726059e-01, 3.12776393e-01, 3.17922329e-01, 3.10082817e-01,\n",
       "       2.99670339e-01, 2.90303128e-01, 2.89117150e-01, 2.95810887e-01,\n",
       "       2.94403795e-01, 3.00414087e-01, 3.13580445e-01, 3.22525529e-01,\n",
       "       3.23812013e-01, 3.30123824e-01, 3.28636327e-01, 3.37501005e-01,\n",
       "       3.34606416e-01, 3.36315028e-01, 3.27510654e-01, 3.26445284e-01,\n",
       "       3.46104366e-01, 3.38506071e-01, 3.36254724e-01, 3.26585993e-01,\n",
       "       3.26646297e-01, 3.18384659e-01, 3.14907132e-01, 3.09158157e-01,\n",
       "       3.20334486e-01, 3.22827048e-01, 3.28093592e-01, 3.15088044e-01,\n",
       "       3.07529951e-01, 3.05379111e-01, 2.96333521e-01, 3.03911715e-01,\n",
       "       3.06102758e-01, 3.06725899e-01, 3.15831792e-01, 3.25962853e-01,\n",
       "       3.33098818e-01, 4.16800675e-01, 4.51716652e-01, 4.45244030e-01,\n",
       "       4.41243869e-01, 4.72159685e-01, 4.69104286e-01, 4.55455496e-01,\n",
       "       4.59375251e-01, 4.77727748e-01, 4.69204792e-01, 4.72079280e-01,\n",
       "       4.71777760e-01, 4.60621533e-01, 4.65888076e-01, 4.62892981e-01,\n",
       "       4.49002975e-01, 4.49766825e-01, 4.47957707e-01, 4.47012945e-01,\n",
       "       4.74210018e-01, 4.75154780e-01, 4.76039238e-01, 4.71998874e-01,\n",
       "       4.70229959e-01, 4.67275066e-01, 4.73707486e-01, 4.77446330e-01,\n",
       "       4.88904077e-01, 5.02351853e-01, 5.02492563e-01, 5.03839350e-01,\n",
       "       4.91255930e-01, 4.91678057e-01, 4.97527539e-01, 5.10131061e-01,\n",
       "       5.11337139e-01, 5.16503176e-01, 5.27759910e-01, 5.19920399e-01,\n",
       "       5.15739326e-01, 5.04321782e-01, 5.13166358e-01, 5.12181394e-01,\n",
       "       5.21126477e-01, 5.28664469e-01, 5.48223044e-01, 5.55359009e-01,\n",
       "       5.54394146e-01, 5.60404438e-01, 5.60746161e-01, 5.52625231e-01,\n",
       "       5.55861542e-01, 5.55399212e-01, 5.53409182e-01, 5.65409665e-01,\n",
       "       5.86435636e-01, 5.83882769e-01, 5.79500683e-01, 5.66877060e-01,\n",
       "       5.78375010e-01, 5.93430892e-01, 5.89531237e-01, 5.97310445e-01,\n",
       "       6.01391011e-01, 6.07079682e-01, 6.00446249e-01, 5.91460963e-01,\n",
       "       5.66515237e-01, 5.50715607e-01, 5.59519981e-01, 5.85430570e-01,\n",
       "       6.11823591e-01, 6.19683203e-01, 5.78415213e-01, 5.83822465e-01,\n",
       "       5.91581571e-01, 6.08084747e-01, 6.12265820e-01, 6.20648066e-01,\n",
       "       6.29492643e-01, 6.21231004e-01, 6.36105974e-01, 6.41915253e-01,\n",
       "       6.45814907e-01, 6.43643966e-01, 6.48327571e-01, 6.45875211e-01,\n",
       "       6.56468602e-01, 6.64529227e-01, 6.58920962e-01, 6.60870789e-01,\n",
       "       6.47262201e-01, 6.55523840e-01, 6.55584144e-01, 6.62820616e-01,\n",
       "       6.67343411e-01, 6.56227386e-01, 6.54297660e-01, 6.36910027e-01,\n",
       "       6.48468280e-01, 6.22477286e-01, 6.19723406e-01, 6.35161213e-01,\n",
       "       6.52327732e-01, 6.40447857e-01, 6.46819973e-01, 6.24668328e-01,\n",
       "       6.06456541e-01, 6.02476481e-01, 5.77550856e-01, 5.63922168e-01,\n",
       "       5.75339712e-01, 5.58937043e-01, 6.41694138e-01, 5.81269599e-01,\n",
       "       5.90898127e-01, 5.22915494e-01, 5.26634237e-01, 5.60766262e-01,\n",
       "       5.71540564e-01, 5.06492723e-01, 5.17930369e-01, 5.15055882e-01,\n",
       "       5.27438289e-01, 5.39097049e-01, 5.13608587e-01, 4.98653212e-01,\n",
       "       5.08985286e-01, 5.01527700e-01, 4.86371311e-01, 4.75677414e-01,\n",
       "       4.75114577e-01, 4.96582777e-01, 4.95597813e-01, 5.08924982e-01,\n",
       "       4.90994613e-01, 4.91818767e-01, 4.72903433e-01, 4.58209375e-01,\n",
       "       4.62792474e-01, 4.88381442e-01, 5.03176007e-01, 5.07397282e-01,\n",
       "       4.92763528e-01, 4.84119965e-01, 4.80742944e-01, 5.00864356e-01,\n",
       "       5.07196269e-01, 5.23699445e-01, 5.35981346e-01, 5.53509689e-01,\n",
       "       5.70676208e-01, 5.68243950e-01, 5.63118115e-01, 5.62917102e-01,\n",
       "       5.43459034e-01, 5.24443194e-01, 5.34252633e-01, 5.57630458e-01,\n",
       "       5.55801238e-01, 5.62555279e-01, 5.57509850e-01, 5.56102758e-01,\n",
       "       5.46011900e-01, 5.40001608e-01, 5.29850446e-01, 5.31177133e-01,\n",
       "       5.49971858e-01, 5.55218300e-01, 5.51801077e-01, 5.71922489e-01,\n",
       "       5.72063199e-01, 6.03622256e-01, 5.95963657e-01, 5.98938651e-01,\n",
       "       5.98255206e-01, 6.08325963e-01, 6.08325963e-01, 6.09150117e-01,\n",
       "       5.96928520e-01, 5.84747126e-01, 5.73369784e-01, 5.85390367e-01,\n",
       "       6.06818365e-01, 6.13130176e-01, 6.17652971e-01, 6.00667364e-01,\n",
       "       6.27683525e-01, 6.25170861e-01, 6.23100426e-01, 6.28145855e-01,\n",
       "       6.34598376e-01, 6.22457184e-01, 6.17793680e-01, 6.19160569e-01,\n",
       "       6.14738281e-01, 6.02818204e-01, 5.82375171e-01, 5.79641393e-01,\n",
       "       5.81671625e-01, 5.65088044e-01, 5.77550856e-01, 5.68666077e-01,\n",
       "       5.81551017e-01, 5.70575702e-01, 5.76183967e-01, 5.93953526e-01,\n",
       "       5.97330546e-01, 5.93812817e-01, 6.11642679e-01, 6.13411594e-01,\n",
       "       6.09270724e-01, 6.08808394e-01, 6.11079842e-01, 6.04144890e-01,\n",
       "       5.96144569e-01, 5.80686661e-01, 5.84244593e-01, 5.85269760e-01,\n",
       "       6.01612125e-01, 6.01612125e-01, 6.09592345e-01, 6.14838787e-01,\n",
       "       6.19462089e-01, 6.04627322e-01, 6.02335772e-01, 6.03622256e-01,\n",
       "       5.87460802e-01, 5.87098979e-01, 6.01632226e-01, 6.15642840e-01,\n",
       "       6.24668328e-01, 6.29311731e-01, 6.15341320e-01, 6.04546916e-01,\n",
       "       6.16748412e-01, 5.93712310e-01, 5.85068746e-01, 5.95461124e-01,\n",
       "       5.93611803e-01, 5.76183967e-01, 5.87681917e-01, 5.99220069e-01,\n",
       "       5.90395594e-01, 5.72686339e-01, 5.83943073e-01, 5.56947013e-01,\n",
       "       5.31438450e-01, 5.19216853e-01, 5.03417223e-01, 4.79335853e-01,\n",
       "       4.95879231e-01, 4.60199405e-01, 4.91738361e-01, 5.01165876e-01,\n",
       "       5.20061108e-01, 5.30172067e-01, 5.15478009e-01, 5.27438289e-01,\n",
       "       5.41469004e-01, 5.39378467e-01, 5.60223527e-01, 5.52504623e-01,\n",
       "       5.47499397e-01, 5.55117794e-01, 5.32463617e-01, 5.33870708e-01,\n",
       "       5.24362788e-01, 5.38453807e-01, 5.42252955e-01, 5.41066978e-01,\n",
       "       5.34815470e-01, 5.28604165e-01, 5.16422771e-01, 5.11417544e-01,\n",
       "       5.03899654e-01, 5.24664308e-01, 5.16724290e-01, 5.19417866e-01,\n",
       "       5.23196912e-01, 5.22674278e-01, 5.19216853e-01, 5.08422449e-01,\n",
       "       5.04261478e-01, 5.03718742e-01, 5.03397121e-01, 4.95638016e-01,\n",
       "       4.85627563e-01, 5.07558093e-01, 4.96964702e-01, 4.88381442e-01,\n",
       "       4.86833642e-01, 4.64420680e-01, 4.35233577e-01, 4.67214762e-01,\n",
       "       4.64320174e-01, 4.73486371e-01, 4.95376699e-01, 5.02412157e-01,\n",
       "       4.98914529e-01, 5.05769076e-01, 4.97547640e-01, 5.03899654e-01,\n",
       "       4.99396961e-01, 4.87878910e-01, 4.71315430e-01, 4.55274584e-01,\n",
       "       4.37223607e-01, 4.50791992e-01, 4.31092707e-01, 4.38912117e-01,\n",
       "       4.30529871e-01, 4.52420198e-01, 4.41263970e-01, 4.63295007e-01,\n",
       "       4.55777117e-01, 4.84300876e-01, 5.12583420e-01, 5.18493206e-01,\n",
       "       5.01326686e-01, 4.86914047e-01, 4.63295007e-01, 4.73044142e-01,\n",
       "       5.04844416e-01, 4.97366728e-01, 4.99859291e-01, 4.88944279e-01,\n",
       "       4.96663182e-01, 4.97366728e-01, 4.99979899e-01, 5.12000482e-01,\n",
       "       5.15920238e-01, 5.28141835e-01, 5.35116990e-01, 5.24242181e-01,\n",
       "       5.17508242e-01, 5.27699606e-01, 5.13508081e-01, 5.01386990e-01,\n",
       "       5.13206561e-01, 5.27860416e-01, 5.49971858e-01, 5.62595481e-01,\n",
       "       5.82475677e-01, 5.85309962e-01, 5.91641875e-01, 5.91360457e-01,\n",
       "       5.75279408e-01, 5.70053067e-01, 5.51780976e-01, 5.48504462e-01,\n",
       "       5.48484361e-01, 5.43378628e-01, 5.44906328e-01, 5.46494331e-01,\n",
       "       5.60303932e-01, 5.64826727e-01, 5.62394468e-01, 5.66655946e-01,\n",
       "       5.82576184e-01, 5.56685696e-01, 5.47499397e-01, 5.44725416e-01,\n",
       "       5.41469004e-01, 5.38674922e-01, 5.23136609e-01, 5.05829380e-01,\n",
       "       5.17588647e-01, 5.18191686e-01, 5.23498432e-01, 5.26031197e-01,\n",
       "       5.18251990e-01, 5.13910107e-01, 4.98773820e-01, 5.01185977e-01,\n",
       "       4.98693415e-01, 4.92562515e-01, 5.16442872e-01, 5.10211466e-01,\n",
       "       5.23438128e-01, 5.73751709e-01, 5.71419957e-01, 5.53831310e-01,\n",
       "       5.45449063e-01, 5.40222723e-01, 5.21247085e-01, 5.21448098e-01,\n",
       "       5.20804856e-01, 5.06794243e-01, 4.92220793e-01, 5.17669052e-01,\n",
       "       5.21126477e-01, 5.07517890e-01, 5.05427354e-01, 5.11879875e-01,\n",
       "       5.22754684e-01, 5.08342044e-01, 5.12302002e-01, 5.21367693e-01,\n",
       "       5.20282222e-01, 5.24704511e-01, 5.20623945e-01, 5.09930047e-01,\n",
       "       5.20402830e-01, 5.19116346e-01, 5.17950470e-01, 5.10191364e-01,\n",
       "       5.24222079e-01, 5.19900297e-01, 5.17066013e-01, 5.10955214e-01,\n",
       "       4.99396961e-01, 5.03015197e-01, 5.21226984e-01, 5.07517890e-01,\n",
       "       5.00281418e-01, 5.01085471e-01, 5.03035298e-01, 5.06311812e-01,\n",
       "       5.18794725e-01, 5.23578837e-01, 5.23679344e-01, 5.24402991e-01,\n",
       "       5.22131543e-01, 5.18895232e-01, 4.94271126e-01, 4.96301359e-01,\n",
       "       4.93708290e-01, 4.86371311e-01, 4.83195304e-01, 4.90492080e-01,\n",
       "       4.86311007e-01, 4.90471979e-01, 4.96844094e-01, 5.10090858e-01,\n",
       "       5.37991477e-01, 5.64866929e-01, 5.74897483e-01, 7.43507277e-01,\n",
       "       7.64091019e-01, 7.55990191e-01, 7.67407735e-01, 7.68171585e-01,\n",
       "       7.39487015e-01, 6.87223607e-01, 7.11003457e-01, 7.02902629e-01,\n",
       "       7.05314787e-01, 7.08088767e-01, 6.95947576e-01, 7.02138779e-01,\n",
       "       7.14018654e-01, 7.35466752e-01, 7.25878427e-01, 7.24370829e-01,\n",
       "       7.84111924e-01, 7.71809922e-01, 7.64251829e-01, 7.55588164e-01,\n",
       "       7.59186299e-01, 7.69437967e-01, 7.58784273e-01, 7.56492723e-01,\n",
       "       7.24973868e-01, 5.90737316e-01, 6.74981909e-01, 6.65815711e-01,\n",
       "       7.24210018e-01, 7.10983356e-01, 7.00369864e-01, 6.49754764e-01,\n",
       "       6.56247487e-01, 6.79183083e-01, 6.45010855e-01, 6.70117392e-01,\n",
       "       6.87665836e-01, 6.71343572e-01, 6.84710943e-01, 6.96671223e-01,\n",
       "       6.98681354e-01, 7.16310203e-01, 7.20973707e-01, 7.18963576e-01,\n",
       "       7.14159363e-01, 6.99284393e-01, 6.89334245e-01, 6.78459436e-01,\n",
       "       7.04852456e-01, 6.65795610e-01, 6.39543298e-01, 6.51604085e-01,\n",
       "       6.61835652e-01, 6.59483798e-01, 7.09335049e-01, 7.23084345e-01,\n",
       "       7.43989708e-01, 7.28149875e-01, 7.25416097e-01, 7.29617271e-01,\n",
       "       7.31748010e-01, 7.51969928e-01, 7.54884618e-01, 7.73880357e-01,\n",
       "       7.67990673e-01, 7.73739648e-01, 7.53859452e-01, 7.38883975e-01,\n",
       "       9.01302565e-01, 8.49139664e-01, 8.60858728e-01, 8.60758221e-01,\n",
       "       8.67130337e-01, 8.77643322e-01, 8.68256010e-01, 8.83935033e-01,\n",
       "       8.90246844e-01, 9.05262523e-01, 9.09343089e-01, 9.06729919e-01,\n",
       "       8.95071159e-01, 9.11272815e-01, 9.08338024e-01, 9.04659484e-01,\n",
       "       8.77382005e-01, 9.04900700e-01, 9.01463375e-01, 9.23896438e-01,\n",
       "       9.39555359e-01, 9.61505990e-01, 9.50550776e-01, 9.42791670e-01,\n",
       "       9.43434912e-01, 9.44138458e-01, 9.40721235e-01, 9.84521991e-01,\n",
       "       9.78712712e-01, 9.52761920e-01, 9.82250543e-01, 9.62390448e-01,\n",
       "       9.64963416e-01, 9.52259387e-01, 9.28760955e-01, 9.30027338e-01,\n",
       "       9.52560907e-01, 9.46530514e-01, 9.71496342e-01, 9.39515156e-01,\n",
       "       9.38751307e-01, 9.49847230e-01, 9.53505669e-01, 9.45625955e-01,\n",
       "       9.52400096e-01, 9.80079601e-01, 1.00000000e+00, 9.85728069e-01,\n",
       "       9.32459596e-01, 9.39394549e-01])"
      ]
     },
     "execution_count": 16,
     "metadata": {},
     "output_type": "execute_result"
    }
   ],
   "source": [
    "y_train"
   ]
  },
  {
   "cell_type": "code",
   "execution_count": 17,
   "id": "479ab29a",
   "metadata": {},
   "outputs": [
    {
     "data": {
      "text/plain": [
       "(958, 50)"
      ]
     },
     "execution_count": 17,
     "metadata": {},
     "output_type": "execute_result"
    }
   ],
   "source": [
    "x_train.shape"
   ]
  },
  {
   "cell_type": "code",
   "execution_count": 18,
   "id": "eccda68c",
   "metadata": {},
   "outputs": [],
   "source": [
    "# reshape\n",
    "x_train = np.reshape(x_train,(x_train.shape[0],x_train.shape[1],1))"
   ]
  },
  {
   "cell_type": "code",
   "execution_count": 19,
   "id": "192eb1ec",
   "metadata": {},
   "outputs": [
    {
     "data": {
      "text/plain": [
       "(958, 50, 1)"
      ]
     },
     "execution_count": 19,
     "metadata": {},
     "output_type": "execute_result"
    }
   ],
   "source": [
    "x_train.shape"
   ]
  },
  {
   "cell_type": "code",
   "execution_count": 20,
   "id": "0daac814",
   "metadata": {},
   "outputs": [],
   "source": [
    "def model_rnn(look_back):\n",
    "    model=Sequential()\n",
    "    model.add(SimpleRNN(units=32, input_shape=(look_back,1), activation=\"relu\"))\n",
    "    model.add(Dense(8, activation='relu'))\n",
    "    model.add(Dense(1))\n",
    "    model.compile(loss='mean_squared_error',  optimizer='adam',metrics = ['mse', 'mae'])\n",
    "    return model"
   ]
  },
  {
   "cell_type": "code",
   "execution_count": 21,
   "id": "18c977f5",
   "metadata": {},
   "outputs": [],
   "source": [
    "model_r = model_rnn(50)"
   ]
  },
  {
   "cell_type": "code",
   "execution_count": 22,
   "id": "1896a242",
   "metadata": {},
   "outputs": [
    {
     "name": "stdout",
     "output_type": "stream",
     "text": [
      "Model: \"sequential\"\n",
      "_________________________________________________________________\n",
      " Layer (type)                Output Shape              Param #   \n",
      "=================================================================\n",
      " simple_rnn (SimpleRNN)      (None, 32)                1088      \n",
      "                                                                 \n",
      " dense (Dense)               (None, 8)                 264       \n",
      "                                                                 \n",
      " dense_1 (Dense)             (None, 1)                 9         \n",
      "                                                                 \n",
      "=================================================================\n",
      "Total params: 1,361\n",
      "Trainable params: 1,361\n",
      "Non-trainable params: 0\n",
      "_________________________________________________________________\n"
     ]
    }
   ],
   "source": [
    "model_r.summary()"
   ]
  },
  {
   "cell_type": "code",
   "execution_count": 23,
   "id": "57b8b6a0",
   "metadata": {},
   "outputs": [
    {
     "name": "stdout",
     "output_type": "stream",
     "text": [
      "Epoch 1/100\n",
      "30/30 [==============================] - 1s 5ms/step - loss: 0.0348 - mse: 0.0348 - mae: 0.1167\n",
      "Epoch 2/100\n",
      "30/30 [==============================] - 0s 4ms/step - loss: 8.6003e-04 - mse: 8.6003e-04 - mae: 0.0219\n",
      "Epoch 3/100\n",
      "30/30 [==============================] - 0s 3ms/step - loss: 5.2837e-04 - mse: 5.2837e-04 - mae: 0.0165\n",
      "Epoch 4/100\n",
      "30/30 [==============================] - 0s 3ms/step - loss: 4.3709e-04 - mse: 4.3709e-04 - mae: 0.0145\n",
      "Epoch 5/100\n",
      "30/30 [==============================] - 0s 4ms/step - loss: 4.1251e-04 - mse: 4.1251e-04 - mae: 0.0138\n",
      "Epoch 6/100\n",
      "30/30 [==============================] - 0s 4ms/step - loss: 3.9712e-04 - mse: 3.9712e-04 - mae: 0.0134\n",
      "Epoch 7/100\n",
      "30/30 [==============================] - 0s 3ms/step - loss: 3.7300e-04 - mse: 3.7300e-04 - mae: 0.0128\n",
      "Epoch 8/100\n",
      "30/30 [==============================] - 0s 4ms/step - loss: 3.6378e-04 - mse: 3.6378e-04 - mae: 0.0127\n",
      "Epoch 9/100\n",
      "30/30 [==============================] - 0s 4ms/step - loss: 3.6271e-04 - mse: 3.6271e-04 - mae: 0.0127\n",
      "Epoch 10/100\n",
      "30/30 [==============================] - 0s 4ms/step - loss: 3.6421e-04 - mse: 3.6421e-04 - mae: 0.0125\n",
      "Epoch 11/100\n",
      "30/30 [==============================] - 0s 4ms/step - loss: 3.5373e-04 - mse: 3.5373e-04 - mae: 0.0124\n",
      "Epoch 12/100\n",
      "30/30 [==============================] - 0s 5ms/step - loss: 3.5488e-04 - mse: 3.5488e-04 - mae: 0.0126\n",
      "Epoch 13/100\n",
      "30/30 [==============================] - 0s 4ms/step - loss: 3.4932e-04 - mse: 3.4932e-04 - mae: 0.0123\n",
      "Epoch 14/100\n",
      "30/30 [==============================] - 0s 4ms/step - loss: 3.5473e-04 - mse: 3.5473e-04 - mae: 0.0125\n",
      "Epoch 15/100\n",
      "30/30 [==============================] - 0s 5ms/step - loss: 3.5506e-04 - mse: 3.5506e-04 - mae: 0.0124\n",
      "Epoch 16/100\n",
      "30/30 [==============================] - 0s 4ms/step - loss: 3.3803e-04 - mse: 3.3803e-04 - mae: 0.0121\n",
      "Epoch 17/100\n",
      "30/30 [==============================] - 0s 4ms/step - loss: 3.4880e-04 - mse: 3.4880e-04 - mae: 0.0126\n",
      "Epoch 18/100\n",
      "30/30 [==============================] - 0s 4ms/step - loss: 3.5550e-04 - mse: 3.5550e-04 - mae: 0.0125\n",
      "Epoch 19/100\n",
      "30/30 [==============================] - 0s 3ms/step - loss: 3.4202e-04 - mse: 3.4202e-04 - mae: 0.0121\n",
      "Epoch 20/100\n",
      "30/30 [==============================] - 0s 4ms/step - loss: 3.3349e-04 - mse: 3.3349e-04 - mae: 0.0119\n",
      "Epoch 21/100\n",
      "30/30 [==============================] - 0s 4ms/step - loss: 3.2719e-04 - mse: 3.2719e-04 - mae: 0.0119\n",
      "Epoch 22/100\n",
      "30/30 [==============================] - 0s 4ms/step - loss: 3.4896e-04 - mse: 3.4896e-04 - mae: 0.0125\n",
      "Epoch 23/100\n",
      "30/30 [==============================] - 0s 4ms/step - loss: 3.3000e-04 - mse: 3.3000e-04 - mae: 0.0119\n",
      "Epoch 24/100\n",
      "30/30 [==============================] - 0s 4ms/step - loss: 3.8092e-04 - mse: 3.8092e-04 - mae: 0.0132\n",
      "Epoch 25/100\n",
      "30/30 [==============================] - 0s 4ms/step - loss: 3.2230e-04 - mse: 3.2230e-04 - mae: 0.0117\n",
      "Epoch 26/100\n",
      "30/30 [==============================] - 0s 4ms/step - loss: 3.1972e-04 - mse: 3.1972e-04 - mae: 0.0116\n",
      "Epoch 27/100\n",
      "30/30 [==============================] - 0s 3ms/step - loss: 3.1710e-04 - mse: 3.1710e-04 - mae: 0.0117\n",
      "Epoch 28/100\n",
      "30/30 [==============================] - 0s 4ms/step - loss: 3.2152e-04 - mse: 3.2152e-04 - mae: 0.0117\n",
      "Epoch 29/100\n",
      "30/30 [==============================] - 0s 4ms/step - loss: 3.1265e-04 - mse: 3.1265e-04 - mae: 0.0115\n",
      "Epoch 30/100\n",
      "30/30 [==============================] - 0s 4ms/step - loss: 3.3089e-04 - mse: 3.3089e-04 - mae: 0.0118\n",
      "Epoch 31/100\n",
      "30/30 [==============================] - 0s 5ms/step - loss: 3.2180e-04 - mse: 3.2180e-04 - mae: 0.0117\n",
      "Epoch 32/100\n",
      "30/30 [==============================] - 0s 4ms/step - loss: 3.2227e-04 - mse: 3.2227e-04 - mae: 0.0119\n",
      "Epoch 33/100\n",
      "30/30 [==============================] - 0s 5ms/step - loss: 3.1173e-04 - mse: 3.1173e-04 - mae: 0.0115\n",
      "Epoch 34/100\n",
      "30/30 [==============================] - 0s 4ms/step - loss: 3.2239e-04 - mse: 3.2239e-04 - mae: 0.0116\n",
      "Epoch 35/100\n",
      "30/30 [==============================] - 0s 4ms/step - loss: 3.1260e-04 - mse: 3.1260e-04 - mae: 0.0117\n",
      "Epoch 36/100\n",
      "30/30 [==============================] - 0s 3ms/step - loss: 3.1298e-04 - mse: 3.1298e-04 - mae: 0.0117\n",
      "Epoch 37/100\n",
      "30/30 [==============================] - 0s 4ms/step - loss: 3.2114e-04 - mse: 3.2114e-04 - mae: 0.0119\n",
      "Epoch 38/100\n",
      "30/30 [==============================] - 0s 3ms/step - loss: 3.2900e-04 - mse: 3.2900e-04 - mae: 0.0122\n",
      "Epoch 39/100\n",
      "30/30 [==============================] - 0s 3ms/step - loss: 3.0180e-04 - mse: 3.0180e-04 - mae: 0.0112\n",
      "Epoch 40/100\n",
      "30/30 [==============================] - 0s 4ms/step - loss: 3.0608e-04 - mse: 3.0608e-04 - mae: 0.0114\n",
      "Epoch 41/100\n",
      "30/30 [==============================] - 0s 4ms/step - loss: 3.2337e-04 - mse: 3.2337e-04 - mae: 0.0117\n",
      "Epoch 42/100\n",
      "30/30 [==============================] - 0s 4ms/step - loss: 3.2656e-04 - mse: 3.2656e-04 - mae: 0.0120\n",
      "Epoch 43/100\n",
      "30/30 [==============================] - 0s 4ms/step - loss: 3.2168e-04 - mse: 3.2168e-04 - mae: 0.0116\n",
      "Epoch 44/100\n",
      "30/30 [==============================] - 0s 5ms/step - loss: 3.3787e-04 - mse: 3.3787e-04 - mae: 0.0123\n",
      "Epoch 45/100\n",
      "30/30 [==============================] - 0s 4ms/step - loss: 3.2807e-04 - mse: 3.2807e-04 - mae: 0.0120\n",
      "Epoch 46/100\n",
      "30/30 [==============================] - 0s 4ms/step - loss: 3.2848e-04 - mse: 3.2848e-04 - mae: 0.0118\n",
      "Epoch 47/100\n",
      "30/30 [==============================] - 0s 5ms/step - loss: 3.0048e-04 - mse: 3.0048e-04 - mae: 0.0112\n",
      "Epoch 48/100\n",
      "30/30 [==============================] - 0s 4ms/step - loss: 3.0931e-04 - mse: 3.0931e-04 - mae: 0.0115\n",
      "Epoch 49/100\n",
      "30/30 [==============================] - 0s 4ms/step - loss: 3.0135e-04 - mse: 3.0135e-04 - mae: 0.0111\n",
      "Epoch 50/100\n",
      "30/30 [==============================] - 0s 4ms/step - loss: 2.9431e-04 - mse: 2.9431e-04 - mae: 0.0111\n",
      "Epoch 51/100\n",
      "30/30 [==============================] - 0s 4ms/step - loss: 3.5443e-04 - mse: 3.5443e-04 - mae: 0.0128\n",
      "Epoch 52/100\n",
      "30/30 [==============================] - 0s 4ms/step - loss: 2.9191e-04 - mse: 2.9191e-04 - mae: 0.0110\n",
      "Epoch 53/100\n",
      "30/30 [==============================] - 0s 4ms/step - loss: 2.9500e-04 - mse: 2.9500e-04 - mae: 0.0111\n",
      "Epoch 54/100\n",
      "30/30 [==============================] - 0s 4ms/step - loss: 3.2433e-04 - mse: 3.2433e-04 - mae: 0.0119\n",
      "Epoch 55/100\n",
      "30/30 [==============================] - 0s 4ms/step - loss: 3.2475e-04 - mse: 3.2475e-04 - mae: 0.0119\n",
      "Epoch 56/100\n",
      "30/30 [==============================] - 0s 4ms/step - loss: 3.1164e-04 - mse: 3.1164e-04 - mae: 0.0114\n",
      "Epoch 57/100\n",
      "30/30 [==============================] - 0s 4ms/step - loss: 3.0397e-04 - mse: 3.0397e-04 - mae: 0.0114\n",
      "Epoch 58/100\n",
      "30/30 [==============================] - 0s 4ms/step - loss: 2.8711e-04 - mse: 2.8711e-04 - mae: 0.0109\n",
      "Epoch 59/100\n",
      "30/30 [==============================] - 0s 4ms/step - loss: 2.8157e-04 - mse: 2.8157e-04 - mae: 0.0109\n",
      "Epoch 60/100\n",
      "30/30 [==============================] - 0s 4ms/step - loss: 3.1686e-04 - mse: 3.1686e-04 - mae: 0.0119\n",
      "Epoch 61/100\n",
      "30/30 [==============================] - 0s 4ms/step - loss: 3.1174e-04 - mse: 3.1174e-04 - mae: 0.0116\n",
      "Epoch 62/100\n",
      "30/30 [==============================] - 0s 4ms/step - loss: 2.9476e-04 - mse: 2.9476e-04 - mae: 0.0111\n",
      "Epoch 63/100\n",
      "30/30 [==============================] - 0s 4ms/step - loss: 2.8838e-04 - mse: 2.8838e-04 - mae: 0.0110\n",
      "Epoch 64/100\n",
      "30/30 [==============================] - 0s 4ms/step - loss: 2.8648e-04 - mse: 2.8648e-04 - mae: 0.0109\n",
      "Epoch 65/100\n",
      "30/30 [==============================] - 0s 4ms/step - loss: 3.4194e-04 - mse: 3.4194e-04 - mae: 0.0122\n",
      "Epoch 66/100\n",
      "30/30 [==============================] - 0s 4ms/step - loss: 2.8485e-04 - mse: 2.8485e-04 - mae: 0.0109\n",
      "Epoch 67/100\n",
      "30/30 [==============================] - 0s 4ms/step - loss: 3.2542e-04 - mse: 3.2542e-04 - mae: 0.0118\n",
      "Epoch 68/100\n",
      "30/30 [==============================] - 0s 4ms/step - loss: 2.7814e-04 - mse: 2.7814e-04 - mae: 0.0108\n",
      "Epoch 69/100\n",
      "30/30 [==============================] - 0s 4ms/step - loss: 2.9132e-04 - mse: 2.9132e-04 - mae: 0.0109\n",
      "Epoch 70/100\n",
      "30/30 [==============================] - 0s 4ms/step - loss: 3.0142e-04 - mse: 3.0142e-04 - mae: 0.0113\n",
      "Epoch 71/100\n",
      "30/30 [==============================] - 0s 4ms/step - loss: 2.7821e-04 - mse: 2.7821e-04 - mae: 0.0108\n",
      "Epoch 72/100\n",
      "30/30 [==============================] - 0s 4ms/step - loss: 3.1410e-04 - mse: 3.1410e-04 - mae: 0.0117\n",
      "Epoch 73/100\n",
      "30/30 [==============================] - 0s 4ms/step - loss: 3.0847e-04 - mse: 3.0847e-04 - mae: 0.0114\n",
      "Epoch 74/100\n",
      "30/30 [==============================] - 0s 4ms/step - loss: 2.8296e-04 - mse: 2.8296e-04 - mae: 0.0108\n",
      "Epoch 75/100\n",
      "30/30 [==============================] - 0s 4ms/step - loss: 3.6107e-04 - mse: 3.6107e-04 - mae: 0.0129\n",
      "Epoch 76/100\n",
      "30/30 [==============================] - 0s 4ms/step - loss: 3.0924e-04 - mse: 3.0924e-04 - mae: 0.0113\n",
      "Epoch 77/100\n",
      "30/30 [==============================] - 0s 4ms/step - loss: 2.9473e-04 - mse: 2.9473e-04 - mae: 0.0110\n",
      "Epoch 78/100\n",
      "30/30 [==============================] - 0s 3ms/step - loss: 2.7592e-04 - mse: 2.7592e-04 - mae: 0.0107\n",
      "Epoch 79/100\n",
      "30/30 [==============================] - 0s 4ms/step - loss: 2.8078e-04 - mse: 2.8078e-04 - mae: 0.0109\n",
      "Epoch 80/100\n",
      "30/30 [==============================] - 0s 4ms/step - loss: 3.2962e-04 - mse: 3.2962e-04 - mae: 0.0123\n",
      "Epoch 81/100\n",
      "30/30 [==============================] - 0s 4ms/step - loss: 2.8544e-04 - mse: 2.8544e-04 - mae: 0.0109\n",
      "Epoch 82/100\n",
      "30/30 [==============================] - 0s 4ms/step - loss: 3.0693e-04 - mse: 3.0693e-04 - mae: 0.0115\n",
      "Epoch 83/100\n",
      "30/30 [==============================] - 0s 4ms/step - loss: 2.9743e-04 - mse: 2.9743e-04 - mae: 0.0111\n",
      "Epoch 84/100\n",
      "30/30 [==============================] - 0s 4ms/step - loss: 2.8163e-04 - mse: 2.8163e-04 - mae: 0.0108\n",
      "Epoch 85/100\n",
      "30/30 [==============================] - 0s 4ms/step - loss: 3.0228e-04 - mse: 3.0228e-04 - mae: 0.0115\n",
      "Epoch 86/100\n",
      "30/30 [==============================] - 0s 4ms/step - loss: 3.0798e-04 - mse: 3.0798e-04 - mae: 0.0115\n",
      "Epoch 87/100\n",
      "30/30 [==============================] - 0s 4ms/step - loss: 2.8483e-04 - mse: 2.8483e-04 - mae: 0.0109\n",
      "Epoch 88/100\n",
      "30/30 [==============================] - 0s 4ms/step - loss: 2.8508e-04 - mse: 2.8508e-04 - mae: 0.0108\n",
      "Epoch 89/100\n",
      "30/30 [==============================] - 0s 4ms/step - loss: 3.0450e-04 - mse: 3.0450e-04 - mae: 0.0112\n",
      "Epoch 90/100\n",
      "30/30 [==============================] - 0s 4ms/step - loss: 2.8721e-04 - mse: 2.8721e-04 - mae: 0.0109\n",
      "Epoch 91/100\n",
      "30/30 [==============================] - 0s 4ms/step - loss: 2.7908e-04 - mse: 2.7908e-04 - mae: 0.0107\n",
      "Epoch 92/100\n",
      "30/30 [==============================] - 0s 4ms/step - loss: 2.9206e-04 - mse: 2.9206e-04 - mae: 0.0108\n",
      "Epoch 93/100\n",
      "30/30 [==============================] - 0s 4ms/step - loss: 3.0753e-04 - mse: 3.0753e-04 - mae: 0.0115\n",
      "Epoch 94/100\n",
      "30/30 [==============================] - 0s 4ms/step - loss: 2.7991e-04 - mse: 2.7991e-04 - mae: 0.0107\n",
      "Epoch 95/100\n",
      "30/30 [==============================] - 0s 4ms/step - loss: 3.3541e-04 - mse: 3.3541e-04 - mae: 0.0121\n",
      "Epoch 96/100\n",
      "30/30 [==============================] - 0s 4ms/step - loss: 3.0915e-04 - mse: 3.0915e-04 - mae: 0.0113\n",
      "Epoch 97/100\n",
      "30/30 [==============================] - 0s 4ms/step - loss: 2.8026e-04 - mse: 2.8026e-04 - mae: 0.0108\n",
      "Epoch 98/100\n",
      "30/30 [==============================] - 0s 4ms/step - loss: 2.8169e-04 - mse: 2.8169e-04 - mae: 0.0106\n",
      "Epoch 99/100\n",
      "30/30 [==============================] - 0s 4ms/step - loss: 3.1379e-04 - mse: 3.1379e-04 - mae: 0.0114\n",
      "Epoch 100/100\n",
      "30/30 [==============================] - 0s 4ms/step - loss: 3.1987e-04 - mse: 3.1987e-04 - mae: 0.0117\n"
     ]
    },
    {
     "data": {
      "text/plain": [
       "<keras.callbacks.History at 0x2388fe4f5e0>"
      ]
     },
     "execution_count": 23,
     "metadata": {},
     "output_type": "execute_result"
    }
   ],
   "source": [
    "model_r.fit(x_train, y_train,epochs=100)"
   ]
  },
  {
   "cell_type": "code",
   "execution_count": 24,
   "id": "5e06fac1",
   "metadata": {},
   "outputs": [],
   "source": [
    "test_x=[]\n",
    "test_y = []\n",
    "time_step = 50\n",
    "for i in range(50,len(test)):\n",
    "    test_x.append(test[i-time_step:i,0])\n",
    "    test_y.append(test[i,0])"
   ]
  },
  {
   "cell_type": "code",
   "execution_count": 25,
   "id": "aedd5f39",
   "metadata": {},
   "outputs": [],
   "source": [
    "test_lbl = test_y"
   ]
  },
  {
   "cell_type": "code",
   "execution_count": 26,
   "id": "dce6e985",
   "metadata": {},
   "outputs": [],
   "source": [
    "test_x = scaler.fit_transform(test_x)"
   ]
  },
  {
   "cell_type": "code",
   "execution_count": 27,
   "id": "ee39220c",
   "metadata": {},
   "outputs": [],
   "source": [
    "test_y = scaler.fit_transform(np.array(test_y).reshape(-1,1))"
   ]
  },
  {
   "cell_type": "code",
   "execution_count": 28,
   "id": "da603a9d",
   "metadata": {},
   "outputs": [],
   "source": [
    "test_y = test_y.reshape(1,-1)"
   ]
  },
  {
   "cell_type": "code",
   "execution_count": 29,
   "id": "a581393b",
   "metadata": {},
   "outputs": [
    {
     "data": {
      "text/plain": [
       "array([[0.47664698, 0.46112957, 0.46954596, ..., 0.38385502, 0.38007963,\n",
       "        0.44927238],\n",
       "       [0.47902447, 0.46954596, 0.35998523, ..., 0.38007963, 0.44927238,\n",
       "        0.48640857],\n",
       "       [0.48776747, 0.35998523, 0.39741602, ..., 0.44927238, 0.48640857,\n",
       "        0.4496156 ],\n",
       "       ...,\n",
       "       [0.45302554, 0.43204134, 0.50645995, ..., 0.21018671, 0.24389072,\n",
       "        0.24615596],\n",
       "       [0.44880742, 0.50645995, 0.54640089, ..., 0.24389072, 0.24615596,\n",
       "        0.34157057],\n",
       "       [0.52611397, 0.54640089, 0.50682909, ..., 0.24615596, 0.34157057,\n",
       "        0.35605437]])"
      ]
     },
     "execution_count": 29,
     "metadata": {},
     "output_type": "execute_result"
    }
   ],
   "source": [
    "test_x[0:50]"
   ]
  },
  {
   "cell_type": "code",
   "execution_count": 30,
   "id": "cb4cc280",
   "metadata": {},
   "outputs": [
    {
     "data": {
      "text/plain": [
       "array([[0.48640857, 0.4496156 , 0.45620538, 0.48984075, 0.41879462,\n",
       "        0.45160626, 0.43650467, 0.5429709 , 0.53713619, 0.46403075,\n",
       "        0.54269632, 0.45991214, 0.44460461, 0.51050247, 0.50089237,\n",
       "        0.49437122, 0.45991214, 0.5365184 , 0.56981054, 0.56960461,\n",
       "        0.61408567, 0.67620813, 0.59719934, 0.57921472, 0.37959912,\n",
       "        0.30958265, 0.37355848, 0.24910763, 0.25576606, 0.1352279 ,\n",
       "        0.18279791, 0.177581  , 0.13378638, 0.18327842, 0.18794618,\n",
       "        0.28143877, 0.31404448, 0.35976112, 0.31617243, 0.28095826,\n",
       "        0.26173806, 0.30882757, 0.22425865, 0.21526634, 0.21018671,\n",
       "        0.24389072, 0.24615596, 0.34157057, 0.35605437, 0.36387974,\n",
       "        0.41694124, 0.43609281, 0.42215815, 0.39998627, 0.37005766,\n",
       "        0.33525535, 0.36353652, 0.35605437, 0.33271554, 0.31239703,\n",
       "        0.3121911 , 0.32948929, 0.30141406, 0.25844316, 0.19062328,\n",
       "        0.18808347, 0.19261395, 0.18156233, 0.02862438, 0.        ,\n",
       "        0.05470895, 0.08237232, 0.09932729, 0.14552444, 0.17202087,\n",
       "        0.13028556, 0.18588688, 0.19563427, 0.25432455, 0.33031301,\n",
       "        0.36120264, 0.34719934, 0.37568644, 0.35495607, 0.40424217,\n",
       "        0.45531301, 0.47611203, 0.48640857, 0.47823998, 0.46705107,\n",
       "        0.46183416, 0.52196595, 0.69817408, 0.61841021, 0.67057935,\n",
       "        0.66021417, 0.69481054, 0.70551895, 0.76194399, 0.75576606,\n",
       "        0.77395662, 0.78253707, 0.75851181, 0.77395662, 0.75027457,\n",
       "        0.72981878, 0.74828391, 0.71389347, 0.70201812, 0.71718836,\n",
       "        0.68355299, 0.65897858, 0.6727073 , 0.67092257, 0.67497254,\n",
       "        0.65904723, 0.67442339, 0.70023339, 0.70325371, 0.74821527,\n",
       "        0.73853652, 0.6802581 , 0.57749863, 0.6416804 , 0.60825096,\n",
       "        0.63076606, 0.67785557, 0.69618342, 0.6727073 , 0.69783086,\n",
       "        0.74821527, 0.7934514 , 0.76702361, 0.71732565, 0.73345689,\n",
       "        0.75809995, 0.72302306, 0.70874519, 0.72096376, 0.74347886,\n",
       "        0.74135091, 0.74588138, 0.73249588, 0.79393191, 0.77402526,\n",
       "        0.75658979, 0.75954146, 0.74684239, 0.80210049, 0.8734212 ,\n",
       "        0.90815486, 0.85118067, 0.91913784, 1.        , 0.92902252,\n",
       "        0.89236683, 0.94281988, 0.85440692, 0.76805327, 0.73585942,\n",
       "        0.66069467, 0.54681494, 0.71046129, 0.77155409, 0.7478034 ,\n",
       "        0.82489017, 0.58717738, 0.58072488, 0.52148545, 0.57797913,\n",
       "        0.65842943, 0.68897584, 0.62884404, 0.69762493, 0.66398957,\n",
       "        0.64017024, 0.61092806, 0.69007414, 0.68005217, 0.5933553 ,\n",
       "        0.50514827, 0.59520868, 0.64339649, 0.61779242, 0.69659528,\n",
       "        0.74821527, 0.78281164, 0.84362987, 0.86765513, 0.86724327,\n",
       "        0.88824822, 0.81836903, 0.86326194, 0.85694673, 0.83305876,\n",
       "        0.82303679, 0.82152663, 0.842257  , 0.77107359, 0.76709226]])"
      ]
     },
     "execution_count": 30,
     "metadata": {},
     "output_type": "execute_result"
    }
   ],
   "source": [
    "test_y[0:50]"
   ]
  },
  {
   "cell_type": "code",
   "execution_count": 31,
   "id": "d2876dee",
   "metadata": {},
   "outputs": [],
   "source": [
    "# convert in to array\n",
    "test_x,test_y = np.array(test_x),np.array(test_y)"
   ]
  },
  {
   "cell_type": "code",
   "execution_count": 32,
   "id": "7b803937",
   "metadata": {},
   "outputs": [],
   "source": [
    "# reshaping the test data\n",
    "test_x = np.reshape(test_x,(test_x.shape[0],test_x.shape[1],1))"
   ]
  },
  {
   "cell_type": "code",
   "execution_count": 33,
   "id": "c2a1c6de",
   "metadata": {},
   "outputs": [
    {
     "name": "stdout",
     "output_type": "stream",
     "text": [
      "7/7 [==============================] - 0s 1ms/step\n"
     ]
    }
   ],
   "source": [
    "predict_price = model_r.predict(test_x)"
   ]
  },
  {
   "cell_type": "code",
   "execution_count": 34,
   "id": "77a68519",
   "metadata": {},
   "outputs": [],
   "source": [
    "predicted_stock_price = scaler.inverse_transform(predict_price)"
   ]
  },
  {
   "cell_type": "code",
   "execution_count": 35,
   "id": "9f3b01a4",
   "metadata": {},
   "outputs": [
    {
     "data": {
      "text/plain": [
       "array([[0.44804743],\n",
       "       [0.49039915]], dtype=float32)"
      ]
     },
     "execution_count": 35,
     "metadata": {},
     "output_type": "execute_result"
    }
   ],
   "source": [
    "predict_price[0:2]"
   ]
  },
  {
   "cell_type": "code",
   "execution_count": 36,
   "id": "4ed85a45",
   "metadata": {},
   "outputs": [
    {
     "data": {
      "text/plain": [
       "array([[0.44804743],\n",
       "       [0.49039915]], dtype=float32)"
      ]
     },
     "execution_count": 36,
     "metadata": {},
     "output_type": "execute_result"
    }
   ],
   "source": [
    "predict_price[0:2]"
   ]
  },
  {
   "cell_type": "code",
   "execution_count": 37,
   "id": "e8369493",
   "metadata": {},
   "outputs": [
    {
     "data": {
      "text/plain": [
       "array([[736.27155],\n",
       "       [742.44135]], dtype=float32)"
      ]
     },
     "execution_count": 37,
     "metadata": {},
     "output_type": "execute_result"
    }
   ],
   "source": [
    "predicted_stock_price[0:2]"
   ]
  },
  {
   "cell_type": "code",
   "execution_count": 38,
   "id": "6c4dad36",
   "metadata": {},
   "outputs": [
    {
     "data": {
      "image/png": "[encoded data removed]",
      "text/plain": [
       "<Figure size 640x480 with 1 Axes>"
      ]
     },
     "metadata": {},
     "output_type": "display_data"
    }
   ],
   "source": [
    "plt.plot(test_lbl, color='Red', label= \"real stock price\")\n",
    "plt.plot(predicted_stock_price, color='Blue', label=\"predicted_stock_price\")\n",
    "plt.title(\"Google Stock Price\")\n",
    "plt.xlabel(\"Time\")\n",
    "plt.ylabel(\"google stock prices\")\n",
    "plt.legend()\n",
    "plt.show()"
   ]
  },
  {
   "cell_type": "code",
   "execution_count": 39,
   "id": "aaa5dcd6",
   "metadata": {},
   "outputs": [],
   "source": [
    "def lstm_mdl(timesteps):\n",
    "    model = Sequential()\n",
    "    model.add(LSTM(32,input_shape=(timesteps,1), activation='relu'))\n",
    "    model.add(Dense(16, activation='relu'))\n",
    "    model.add(Dense(1, activation='linear'))\n",
    "    model.compile(loss='mean_squared_error',  optimizer='adam',metrics = ['mse', 'mae'])\n",
    "    return model"
   ]
  },
  {
   "cell_type": "code",
   "execution_count": 40,
   "id": "0630c433",
   "metadata": {},
   "outputs": [],
   "source": [
    "lstm = lstm_mdl(50)"
   ]
  },
  {
   "cell_type": "code",
   "execution_count": 41,
   "id": "a738d4e0",
   "metadata": {},
   "outputs": [
    {
     "name": "stdout",
     "output_type": "stream",
     "text": [
      "Model: \"sequential_1\"\n",
      "_________________________________________________________________\n",
      " Layer (type)                Output Shape              Param #   \n",
      "=================================================================\n",
      " lstm (LSTM)                 (None, 32)                4352      \n",
      "                                                                 \n",
      " dense_2 (Dense)             (None, 16)                528       \n",
      "                                                                 \n",
      " dense_3 (Dense)             (None, 1)                 17        \n",
      "                                                                 \n",
      "=================================================================\n",
      "Total params: 4,897\n",
      "Trainable params: 4,897\n",
      "Non-trainable params: 0\n",
      "_________________________________________________________________\n"
     ]
    }
   ],
   "source": [
    "lstm.summary()"
   ]
  },
  {
   "cell_type": "code",
   "execution_count": 42,
   "id": "d1036e39",
   "metadata": {},
   "outputs": [
    {
     "name": "stdout",
     "output_type": "stream",
     "text": [
      "Epoch 1/100\n",
      "30/30 [==============================] - 1s 9ms/step - loss: 0.1079 - mse: 0.1079 - mae: 0.2608\n",
      "Epoch 2/100\n",
      "30/30 [==============================] - 0s 9ms/step - loss: 0.0078 - mse: 0.0078 - mae: 0.0702\n",
      "Epoch 3/100\n",
      "30/30 [==============================] - 0s 9ms/step - loss: 0.0039 - mse: 0.0039 - mae: 0.0489\n",
      "Epoch 4/100\n",
      "30/30 [==============================] - 0s 8ms/step - loss: 0.0023 - mse: 0.0023 - mae: 0.0365\n",
      "Epoch 5/100\n",
      "30/30 [==============================] - 0s 9ms/step - loss: 0.0017 - mse: 0.0017 - mae: 0.0301\n",
      "Epoch 6/100\n",
      "30/30 [==============================] - 0s 9ms/step - loss: 0.0013 - mse: 0.0013 - mae: 0.0256\n",
      "Epoch 7/100\n",
      "30/30 [==============================] - 0s 9ms/step - loss: 0.0011 - mse: 0.0011 - mae: 0.0230   \n",
      "Epoch 8/100\n",
      "30/30 [==============================] - 0s 8ms/step - loss: 0.0010 - mse: 0.0010 - mae: 0.0226  \n",
      "Epoch 9/100\n",
      "30/30 [==============================] - 0s 8ms/step - loss: 9.5734e-04 - mse: 9.5734e-04 - mae: 0.0218\n",
      "Epoch 10/100\n",
      "30/30 [==============================] - 0s 8ms/step - loss: 9.4551e-04 - mse: 9.4551e-04 - mae: 0.0215\n",
      "Epoch 11/100\n",
      "30/30 [==============================] - 0s 9ms/step - loss: 9.3006e-04 - mse: 9.3006e-04 - mae: 0.0213\n",
      "Epoch 12/100\n",
      "30/30 [==============================] - 0s 8ms/step - loss: 9.0768e-04 - mse: 9.0768e-04 - mae: 0.0210\n",
      "Epoch 13/100\n",
      "30/30 [==============================] - 0s 9ms/step - loss: 9.0775e-04 - mse: 9.0775e-04 - mae: 0.0210\n",
      "Epoch 14/100\n",
      "30/30 [==============================] - 0s 8ms/step - loss: 8.9169e-04 - mse: 8.9169e-04 - mae: 0.0208\n",
      "Epoch 15/100\n",
      "30/30 [==============================] - 0s 8ms/step - loss: 8.8207e-04 - mse: 8.8207e-04 - mae: 0.0206\n",
      "Epoch 16/100\n",
      "30/30 [==============================] - 0s 8ms/step - loss: 8.8063e-04 - mse: 8.8063e-04 - mae: 0.0205\n",
      "Epoch 17/100\n",
      "30/30 [==============================] - 0s 8ms/step - loss: 8.6908e-04 - mse: 8.6908e-04 - mae: 0.0205\n",
      "Epoch 18/100\n",
      "30/30 [==============================] - 0s 8ms/step - loss: 8.5791e-04 - mse: 8.5791e-04 - mae: 0.0202\n",
      "Epoch 19/100\n",
      "30/30 [==============================] - 0s 9ms/step - loss: 8.6478e-04 - mse: 8.6478e-04 - mae: 0.0202\n",
      "Epoch 20/100\n",
      "30/30 [==============================] - 0s 8ms/step - loss: 8.3877e-04 - mse: 8.3877e-04 - mae: 0.0198\n",
      "Epoch 21/100\n",
      "30/30 [==============================] - 0s 9ms/step - loss: 8.3411e-04 - mse: 8.3411e-04 - mae: 0.0198\n",
      "Epoch 22/100\n",
      "30/30 [==============================] - 0s 9ms/step - loss: 8.2009e-04 - mse: 8.2009e-04 - mae: 0.0196\n",
      "Epoch 23/100\n",
      "30/30 [==============================] - 0s 8ms/step - loss: 8.0761e-04 - mse: 8.0761e-04 - mae: 0.0191\n",
      "Epoch 24/100\n",
      "30/30 [==============================] - 0s 8ms/step - loss: 7.7562e-04 - mse: 7.7562e-04 - mae: 0.0189\n",
      "Epoch 25/100\n",
      "30/30 [==============================] - 0s 9ms/step - loss: 7.4575e-04 - mse: 7.4575e-04 - mae: 0.0184\n",
      "Epoch 26/100\n",
      "30/30 [==============================] - 0s 8ms/step - loss: 7.4025e-04 - mse: 7.4025e-04 - mae: 0.0182\n",
      "Epoch 27/100\n",
      "30/30 [==============================] - 0s 9ms/step - loss: 7.1366e-04 - mse: 7.1366e-04 - mae: 0.0179\n",
      "Epoch 28/100\n",
      "30/30 [==============================] - 0s 9ms/step - loss: 6.3046e-04 - mse: 6.3046e-04 - mae: 0.0171\n",
      "Epoch 29/100\n",
      "30/30 [==============================] - 0s 8ms/step - loss: 5.7901e-04 - mse: 5.7901e-04 - mae: 0.0163\n",
      "Epoch 30/100\n",
      "30/30 [==============================] - 0s 9ms/step - loss: 5.4651e-04 - mse: 5.4651e-04 - mae: 0.0160\n",
      "Epoch 31/100\n",
      "30/30 [==============================] - 0s 9ms/step - loss: 5.4242e-04 - mse: 5.4242e-04 - mae: 0.0158\n",
      "Epoch 32/100\n",
      "30/30 [==============================] - 0s 8ms/step - loss: 5.0547e-04 - mse: 5.0547e-04 - mae: 0.0152\n",
      "Epoch 33/100\n",
      "30/30 [==============================] - 0s 8ms/step - loss: 5.2657e-04 - mse: 5.2657e-04 - mae: 0.0159\n",
      "Epoch 34/100\n",
      "30/30 [==============================] - 0s 8ms/step - loss: 4.7686e-04 - mse: 4.7686e-04 - mae: 0.0148\n",
      "Epoch 35/100\n",
      "30/30 [==============================] - 0s 8ms/step - loss: 4.8423e-04 - mse: 4.8423e-04 - mae: 0.0150\n",
      "Epoch 36/100\n",
      "30/30 [==============================] - 0s 8ms/step - loss: 4.9029e-04 - mse: 4.9029e-04 - mae: 0.0148\n",
      "Epoch 37/100\n",
      "30/30 [==============================] - 0s 8ms/step - loss: 4.5458e-04 - mse: 4.5458e-04 - mae: 0.0143\n",
      "Epoch 38/100\n",
      "30/30 [==============================] - 0s 9ms/step - loss: 4.8182e-04 - mse: 4.8182e-04 - mae: 0.0149\n",
      "Epoch 39/100\n",
      "30/30 [==============================] - 0s 9ms/step - loss: 4.3600e-04 - mse: 4.3600e-04 - mae: 0.0139\n",
      "Epoch 40/100\n",
      "30/30 [==============================] - 0s 8ms/step - loss: 4.5559e-04 - mse: 4.5559e-04 - mae: 0.0146\n",
      "Epoch 41/100\n",
      "30/30 [==============================] - 0s 9ms/step - loss: 4.8805e-04 - mse: 4.8805e-04 - mae: 0.0154\n",
      "Epoch 42/100\n",
      "30/30 [==============================] - 0s 8ms/step - loss: 4.4866e-04 - mse: 4.4866e-04 - mae: 0.0146\n",
      "Epoch 43/100\n",
      "30/30 [==============================] - 0s 8ms/step - loss: 4.5805e-04 - mse: 4.5805e-04 - mae: 0.0145\n",
      "Epoch 44/100\n",
      "30/30 [==============================] - 0s 9ms/step - loss: 4.5013e-04 - mse: 4.5013e-04 - mae: 0.0146\n",
      "Epoch 45/100\n",
      "30/30 [==============================] - 0s 9ms/step - loss: 4.2607e-04 - mse: 4.2607e-04 - mae: 0.0141\n",
      "Epoch 46/100\n",
      "30/30 [==============================] - 0s 9ms/step - loss: 4.4151e-04 - mse: 4.4151e-04 - mae: 0.0142\n",
      "Epoch 47/100\n",
      "30/30 [==============================] - 0s 8ms/step - loss: 4.0700e-04 - mse: 4.0700e-04 - mae: 0.0137\n",
      "Epoch 48/100\n",
      "30/30 [==============================] - 0s 9ms/step - loss: 4.5719e-04 - mse: 4.5719e-04 - mae: 0.0148\n",
      "Epoch 49/100\n",
      "30/30 [==============================] - 0s 9ms/step - loss: 4.0444e-04 - mse: 4.0444e-04 - mae: 0.0136\n",
      "Epoch 50/100\n",
      "30/30 [==============================] - 0s 8ms/step - loss: 3.9539e-04 - mse: 3.9539e-04 - mae: 0.0134\n",
      "Epoch 51/100\n",
      "30/30 [==============================] - 0s 8ms/step - loss: 3.9688e-04 - mse: 3.9688e-04 - mae: 0.0133\n",
      "Epoch 52/100\n",
      "30/30 [==============================] - 0s 8ms/step - loss: 3.8012e-04 - mse: 3.8012e-04 - mae: 0.0132\n",
      "Epoch 53/100\n",
      "30/30 [==============================] - 0s 8ms/step - loss: 3.8758e-04 - mse: 3.8758e-04 - mae: 0.0136\n",
      "Epoch 54/100\n",
      "30/30 [==============================] - 0s 8ms/step - loss: 4.0557e-04 - mse: 4.0557e-04 - mae: 0.0137\n",
      "Epoch 55/100\n",
      "30/30 [==============================] - 0s 8ms/step - loss: 3.6867e-04 - mse: 3.6867e-04 - mae: 0.0129\n",
      "Epoch 56/100\n",
      "30/30 [==============================] - 0s 9ms/step - loss: 3.7069e-04 - mse: 3.7069e-04 - mae: 0.0130\n",
      "Epoch 57/100\n",
      "30/30 [==============================] - 0s 8ms/step - loss: 3.6583e-04 - mse: 3.6583e-04 - mae: 0.0128\n",
      "Epoch 58/100\n",
      "30/30 [==============================] - 0s 8ms/step - loss: 3.5692e-04 - mse: 3.5692e-04 - mae: 0.0126\n",
      "Epoch 59/100\n",
      "30/30 [==============================] - 0s 8ms/step - loss: 3.4050e-04 - mse: 3.4050e-04 - mae: 0.0123\n",
      "Epoch 60/100\n",
      "30/30 [==============================] - 0s 8ms/step - loss: 3.6561e-04 - mse: 3.6561e-04 - mae: 0.0131\n",
      "Epoch 61/100\n",
      "30/30 [==============================] - 0s 8ms/step - loss: 3.6381e-04 - mse: 3.6381e-04 - mae: 0.0130\n",
      "Epoch 62/100\n",
      "30/30 [==============================] - 0s 8ms/step - loss: 3.3042e-04 - mse: 3.3042e-04 - mae: 0.0122\n",
      "Epoch 63/100\n",
      "30/30 [==============================] - 0s 8ms/step - loss: 3.2237e-04 - mse: 3.2237e-04 - mae: 0.0121\n",
      "Epoch 64/100\n",
      "30/30 [==============================] - 0s 9ms/step - loss: 3.4108e-04 - mse: 3.4108e-04 - mae: 0.0126\n",
      "Epoch 65/100\n",
      "30/30 [==============================] - 0s 8ms/step - loss: 4.1607e-04 - mse: 4.1607e-04 - mae: 0.0146\n",
      "Epoch 66/100\n",
      "30/30 [==============================] - 0s 8ms/step - loss: 3.8249e-04 - mse: 3.8249e-04 - mae: 0.0133\n",
      "Epoch 67/100\n",
      "30/30 [==============================] - 0s 8ms/step - loss: 3.3426e-04 - mse: 3.3426e-04 - mae: 0.0121\n",
      "Epoch 68/100\n",
      "30/30 [==============================] - 0s 8ms/step - loss: 3.2153e-04 - mse: 3.2153e-04 - mae: 0.0119\n",
      "Epoch 69/100\n",
      "30/30 [==============================] - 0s 9ms/step - loss: 3.6320e-04 - mse: 3.6320e-04 - mae: 0.0129\n",
      "Epoch 70/100\n",
      "30/30 [==============================] - 0s 10ms/step - loss: 3.5896e-04 - mse: 3.5896e-04 - mae: 0.0129\n",
      "Epoch 71/100\n",
      "30/30 [==============================] - 0s 10ms/step - loss: 3.5364e-04 - mse: 3.5364e-04 - mae: 0.0126\n",
      "Epoch 72/100\n",
      "30/30 [==============================] - 0s 10ms/step - loss: 3.2413e-04 - mse: 3.2413e-04 - mae: 0.0120\n",
      "Epoch 73/100\n",
      "30/30 [==============================] - 0s 10ms/step - loss: 3.2929e-04 - mse: 3.2929e-04 - mae: 0.0120\n",
      "Epoch 74/100\n",
      "30/30 [==============================] - 0s 10ms/step - loss: 3.2574e-04 - mse: 3.2574e-04 - mae: 0.0122\n",
      "Epoch 75/100\n",
      "30/30 [==============================] - 0s 10ms/step - loss: 3.0549e-04 - mse: 3.0549e-04 - mae: 0.0114\n",
      "Epoch 76/100\n",
      "30/30 [==============================] - 0s 11ms/step - loss: 3.0420e-04 - mse: 3.0420e-04 - mae: 0.0114\n",
      "Epoch 77/100\n",
      "30/30 [==============================] - 0s 10ms/step - loss: 3.1683e-04 - mse: 3.1683e-04 - mae: 0.0118\n",
      "Epoch 78/100\n",
      "30/30 [==============================] - 0s 10ms/step - loss: 3.1767e-04 - mse: 3.1767e-04 - mae: 0.0120\n",
      "Epoch 79/100\n",
      "30/30 [==============================] - 0s 10ms/step - loss: 3.2428e-04 - mse: 3.2428e-04 - mae: 0.0119\n",
      "Epoch 80/100\n",
      "30/30 [==============================] - 0s 10ms/step - loss: 3.4024e-04 - mse: 3.4024e-04 - mae: 0.0126\n",
      "Epoch 81/100\n",
      "30/30 [==============================] - 0s 10ms/step - loss: 3.3491e-04 - mse: 3.3491e-04 - mae: 0.0124\n",
      "Epoch 82/100\n",
      "30/30 [==============================] - 0s 10ms/step - loss: 3.1496e-04 - mse: 3.1496e-04 - mae: 0.0117\n",
      "Epoch 83/100\n",
      "30/30 [==============================] - 0s 10ms/step - loss: 3.2555e-04 - mse: 3.2555e-04 - mae: 0.0123\n",
      "Epoch 84/100\n",
      "30/30 [==============================] - 0s 10ms/step - loss: 3.2145e-04 - mse: 3.2145e-04 - mae: 0.0119\n",
      "Epoch 85/100\n",
      "30/30 [==============================] - 0s 10ms/step - loss: 3.4277e-04 - mse: 3.4277e-04 - mae: 0.0124\n",
      "Epoch 86/100\n",
      "30/30 [==============================] - 0s 10ms/step - loss: 3.2286e-04 - mse: 3.2286e-04 - mae: 0.0120\n",
      "Epoch 87/100\n",
      "30/30 [==============================] - 0s 10ms/step - loss: 3.0680e-04 - mse: 3.0680e-04 - mae: 0.0117\n",
      "Epoch 88/100\n",
      "30/30 [==============================] - 0s 10ms/step - loss: 3.0737e-04 - mse: 3.0737e-04 - mae: 0.0116\n",
      "Epoch 89/100\n",
      "30/30 [==============================] - 0s 10ms/step - loss: 3.5931e-04 - mse: 3.5931e-04 - mae: 0.0131\n",
      "Epoch 90/100\n",
      "30/30 [==============================] - 0s 10ms/step - loss: 2.9845e-04 - mse: 2.9845e-04 - mae: 0.0113\n",
      "Epoch 91/100\n",
      "30/30 [==============================] - 0s 10ms/step - loss: 3.0895e-04 - mse: 3.0895e-04 - mae: 0.0117\n",
      "Epoch 92/100\n",
      "30/30 [==============================] - 0s 11ms/step - loss: 3.2915e-04 - mse: 3.2915e-04 - mae: 0.0124\n",
      "Epoch 93/100\n",
      "30/30 [==============================] - 0s 10ms/step - loss: 3.4686e-04 - mse: 3.4686e-04 - mae: 0.0125\n",
      "Epoch 94/100\n",
      "30/30 [==============================] - 0s 10ms/step - loss: 3.5375e-04 - mse: 3.5375e-04 - mae: 0.0128\n",
      "Epoch 95/100\n",
      "30/30 [==============================] - 0s 10ms/step - loss: 3.0480e-04 - mse: 3.0480e-04 - mae: 0.0118\n",
      "Epoch 96/100\n",
      "30/30 [==============================] - 0s 10ms/step - loss: 3.1721e-04 - mse: 3.1721e-04 - mae: 0.0120\n",
      "Epoch 97/100\n",
      "30/30 [==============================] - 0s 10ms/step - loss: 3.2123e-04 - mse: 3.2123e-04 - mae: 0.0121\n",
      "Epoch 98/100\n",
      "30/30 [==============================] - 0s 10ms/step - loss: 3.6783e-04 - mse: 3.6783e-04 - mae: 0.0133\n",
      "Epoch 99/100\n",
      "30/30 [==============================] - 0s 11ms/step - loss: 3.0829e-04 - mse: 3.0829e-04 - mae: 0.0115\n",
      "Epoch 100/100\n",
      "30/30 [==============================] - 0s 11ms/step - loss: 3.2189e-04 - mse: 3.2189e-04 - mae: 0.0118\n"
     ]
    },
    {
     "data": {
      "text/plain": [
       "<keras.callbacks.History at 0x23893283f10>"
      ]
     },
     "execution_count": 42,
     "metadata": {},
     "output_type": "execute_result"
    }
   ],
   "source": [
    "lstm.fit(x_train,y_train,epochs=100)"
   ]
  },
  {
   "cell_type": "code",
   "execution_count": 43,
   "id": "55f2f708",
   "metadata": {},
   "outputs": [
    {
     "name": "stdout",
     "output_type": "stream",
     "text": [
      "7/7 [==============================] - 0s 5ms/step\n"
     ]
    }
   ],
   "source": [
    "pred_y = lstm.predict(test_x)"
   ]
  },
  {
   "cell_type": "code",
   "execution_count": 44,
   "id": "78582ab2",
   "metadata": {},
   "outputs": [],
   "source": [
    "predicted_stock_price = scaler.inverse_transform(pred_y)"
   ]
  },
  {
   "cell_type": "code",
   "execution_count": 45,
   "id": "0eaebb24",
   "metadata": {},
   "outputs": [
    {
     "data": {
      "text/plain": [
       "array([[734.4475 ],\n",
       "       [739.5712 ],\n",
       "       [737.17194]], dtype=float32)"
      ]
     },
     "execution_count": 45,
     "metadata": {},
     "output_type": "execute_result"
    }
   ],
   "source": [
    "predicted_stock_price[0:3]"
   ]
  },
  {
   "cell_type": "code",
   "execution_count": null,
   "id": "90118e19",
   "metadata": {},
   "outputs": [],
   "source": []
  }
 ],
 "metadata": {
  "kernelspec": {
   "display_name": "Python 3 (ipykernel)",
   "language": "python",
   "name": "python3"
  },
  "language_info": {
   "codemirror_mode": {
    "name": "ipython",
    "version": 3
   },
   "file_extension": ".py",
   "mimetype": "text/x-python",
   "name": "python",
   "nbconvert_exporter": "python",
   "pygments_lexer": "ipython3",
   "version": "3.9.13"
  }
 },
 "nbformat": 4,
 "nbformat_minor": 5
}
